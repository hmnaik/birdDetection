{
 "cells": [
  {
   "cell_type": "heading",
   "metadata": {
    "collapsed": true
   },
   "level": 1,
   "source": [
    "Import Required Packages \n"
   ]
  },
  {
   "cell_type": "markdown",
   "metadata": {},
   "source": [
    "Step 1 - Read the existing file format \n",
    "Step 2 - Access the data set and save in the required format \n",
    "\n",
    "Step 3 - Red the data and save in required matrix \n",
    "\n",
    "Step 4 - Build the network and feed the data \n",
    "* Define input for data, normalize it. \n",
    "* Vectorise form of RBG \n",
    "* Define Network layers ( Stacking Layers) \n",
    "* Set hyper parameters \n",
    "* Define loss function \n",
    "* Softmax Layer \n",
    "\n",
    "Step 5 - Train Network \n",
    "* Define layers to be trained \n",
    "* Create inference from the best loss \n",
    "* Save the inference model\n",
    "\n",
    "Step 6 - Test Network \n",
    "* Load trained network \n",
    "* Run the test images from the trained network \n"
   ]
  },
  {
   "cell_type": "code",
   "execution_count": 15,
   "metadata": {},
   "outputs": [],
   "source": [
    "import numpy as np \n",
    "import pandas as pd\n"
   ]
  },
  {
   "cell_type": "code",
   "execution_count": 16,
   "metadata": {},
   "outputs": [],
   "source": [
    "# Stoage information for the images\n",
    "images_path = \"/media/hemal/37960676-e41c-4a31-ab6a-e01a2521f68b/hemal/BirdDataset/CUB_200_2011/images\"\n",
    "\n",
    "# File has Mapping information (image_id <-> image name)  \n",
    "image_id_file = \"/media/hemal/37960676-e41c-4a31-ab6a-e01a2521f68b/hemal/BirdDataset/CUB_200_2011/images.txt\"\n",
    "# File has information about  (image_id <-> bBox)\n",
    "bbox_file = \"/media/hemal/37960676-e41c-4a31-ab6a-e01a2521f68b/hemal/BirdDataset/CUB_200_2011/bounding_boxes.txt\"\n",
    "\n",
    "\n"
   ]
  },
  {
   "cell_type": "code",
   "execution_count": 34,
   "metadata": {},
   "outputs": [
    {
     "name": "stdout",
     "output_type": "stream",
     "text": [
      "1 001.Black_footed_Albatross/Black_Footed_Albatross_0046_18.jpg\n2 001.Black_footed_Albatross/Black_Footed_Albatross_0009_34.jpg\n3 001.Black_footed_Albatross/Black_Footed_Albatross_0002_55.jpg\n4 001.Black_footed_Albatross/Black_Footed_Albatross_0074_59.jpg\n5 001.Black_footed_Albatross/Black_Footed_Albatross_0014_89.jpg\n6 001.Black_footed_Albatross/Black_Footed_Albatross_0085_92.jpg\n7 001.Black_footed_Albatross/Black_Footed_Albatross_0031_100.jpg\n8 001.Black_footed_Albatross/Black_Footed_Albatross_0051_796103.jpg\n9 001.Black_footed_Albatross/Black_Footed_Albatross_0010_796097.jpg\n10 001.Black_footed_Albatross/Black_Footed_Albatross_0025_796057.jpg\n"
     ]
    }
   ],
   "source": [
    "# Reading a file with normal txt reader\n",
    "file = open(image_id_file,'r')\n",
    "\n",
    "data = pd.read_csv(image_id_file, sep = \" \", header = None)\n",
    "data.columns = [\"img_id\", \"img_name\"]\n",
    "\n",
    "for i in range(10):\n",
    "    image_id, image_name = data.loc[i]\n",
    "    print(image_id , image_name)\n",
    "    \n",
    "    "
   ]
  },
  {
   "cell_type": "code",
   "execution_count": null,
   "metadata": {},
   "outputs": [],
   "source": []
  }
 ],
 "metadata": {
  "kernelspec": {
   "display_name": "Python 2",
   "language": "python",
   "name": "python2"
  },
  "language_info": {
   "codemirror_mode": {
    "name": "ipython",
    "version": 2
   },
   "file_extension": ".py",
   "mimetype": "text/x-python",
   "name": "python",
   "nbconvert_exporter": "python",
   "pygments_lexer": "ipython2",
   "version": "2.7.6"
  }
 },
 "nbformat": 4,
 "nbformat_minor": 0
}
